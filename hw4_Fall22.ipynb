{
 "cells": [
  {
   "cell_type": "markdown",
   "id": "9bb79d73",
   "metadata": {},
   "source": [
    "# STA 141B Assignment 4\n",
    "\n",
    "Due __October 27, 2022__ by __11:59pm__. Submit by editing this file and then uploading to Canvas.\n",
    "\n",
    "Please rename this file with __\"LastName_FirstName_hw4\"__ \n",
    "\n",
    "The purpose of this assignment is to practice reading data using API.\n",
    "\n",
    "Notes: \n",
    "1. Put your answers in new cells after each exercise. You can make as many new cells as you like. Use code cells for code and Markdown cells for text. Answer all questions with complete sentences.\n",
    "\n",
    "2. Your code should be readable; writing a piece of code should be compared to writing a page of a book. Adopt the __one-statement-per-line__ rule. The lenghth of your code should not exceed the maximum length of each cell for display. If your code is too long, you should split it into multiple lines to improve readability. (You will lose one point for each line that does not follow the rule.)\n",
    "\n",
    "3. To help understand and maintain code, you should always add comments to explain your code. Use the hash symbol (#) to start writing a comment (homework without any comments will automatically receive 0 points). If you are writing a function, consider using _docstring_ to add explanation. \n",
    "\n",
    "4. Submit your final work with a __.pdf__ (or a __.html__) file to Canvas. To convert a .ipynb file to a .pdf/.html file, go to \"File\", click \"Download as\", and then click \"PDF via LaTeX\"/\"HTML\". \n",
    "\n",
    "5. Please do not clear your output so that we can see your answers without running all of the cells."
   ]
  },
  {
   "cell_type": "markdown",
   "id": "880385b0",
   "metadata": {},
   "source": [
    "### Part I: Covid Data"
   ]
  },
  {
   "cell_type": "markdown",
   "id": "5aa18bd1",
   "metadata": {},
   "source": [
    "In this part, we will be using the the covidcast api, and you can find [the documentation here](https://cmu-delphi.github.io/delphi-epidata/).  We will be using the http api and you __should not__ use the `covidcast` python package.  Even though it is available, I want to test you on using the requests package and making http requests directly."
   ]
  },
  {
   "cell_type": "markdown",
   "id": "1ad1596c",
   "metadata": {},
   "source": [
    "**Exercise 4.1.** Request the value for the smoothed_cli signal from the fb-survey datasource on 2022-01-01 for ALL STATES.  Notice that the request below is for counties and so you need to change this to states.  Do the same for smoothed_hh_cmnty_cli signal from the fb-survey data, and the confirmed_7dav_incidence_prop signal from the jhu-csse data source.  Create dataframes from these and join these 3 variables based on the state into a single dataframe.  Drop rows with missingness (there should be only about 5 of them dropped this way, corresponding to the US territories).  Finally, compute and output the spearman correlation between all variables in this dataframe (there should be 51 rows in the new dataset). "
   ]
  },
  {
   "cell_type": "markdown",
   "id": "e88c69f8",
   "metadata": {},
   "source": [
    "__Example (Hint)__\n",
    "\n",
    "Read [the documentation about the Epidata API at this README](https://cmu-delphi.github.io/delphi-epidata/api/covidcast.html) and we will be using the covidcast \"endpoint\".  Pay special attention to the section \"Constructing API Queries\".  You will be making requests with the request package.  Consider the following get request...\n",
    "```\n",
    "https://api.covidcast.cmu.edu/epidata/api.php?endpoint=covidcast&data_source=fb-survey&signal=smoothed_cli&time_type=day&geo_type=county&time_values=20220101-20220106&geo_value=06001\n",
    "```\n",
    "If you put this in your browser you see...\n",
    "```\n",
    "{ \"epidata\": [{\"geo_value\":\"06001\",\"signal\":\"smoothed_cli\",\"time_value\":20220101,\"direction\":null,\"issue\":20220106,\"lag\":5,\"missing_value\":0,\"missing_stderr\":0,\"missing_sample_size\":0,\"value\":1.4538325,\"stderr\":0.3291942,\"sample_size\":1052.6756},{\"geo_value\":\"06001\",\"signal\":\"smoothed_cli\",\"time_value\":20220102,\"direction\":null,\"issue\":20220107,\"lag\":5,\"missing_value\":0,\"missing_stderr\":0,\"missing_sample_size\":0,\"value\":1.8117667,\"stderr\":0.3580762,\"sample_size\":1064.7028},{\"geo_value\":\"06001\",\"signal\":\"smoothed_cli\",\"time_value\":20220103,\"direction\":null,\"issue\":20220108,\"lag\":5,\"missing_value\":0,\"missing_stderr\":0,\"missing_sample_size\":0,\"value\":2.0777178,\"stderr\":0.3804188,\"sample_size\":1093.5003},{\"geo_value\":\"06001\",\"signal\":\"smoothed_cli\",\"time_value\":20220104,\"direction\":null,\"issue\":20220109,\"lag\":5,\"missing_value\":0,\"missing_stderr\":0,\"missing_sample_size\":0,\"value\":2.4268451,\"stderr\":0.41568,\"sample_size\":1105.6993},{\"geo_value\":\"06001\",\"signal\":\"smoothed_cli\",\"time_value\":20220105,\"direction\":null,\"issue\":20220110,\"lag\":5,\"missing_value\":0,\"missing_stderr\":0,\"missing_sample_size\":0,\"value\":2.3800429,\"stderr\":0.3922188,\"sample_size\":1136.6034},{\"geo_value\":\"06001\",\"signal\":\"smoothed_cli\",\"time_value\":20220106,\"direction\":null,\"issue\":20220111,\"lag\":5,\"missing_value\":0,\"missing_stderr\":0,\"missing_sample_size\":0,\"value\":2.625263,\"stderr\":0.4066375,\"sample_size\":1132.8466}], \"result\": 1, \"message\": \"success\" }\n",
    "```\n",
    "which is the json returned from this query.  The parameters for the query are \n",
    "```\n",
    "endpoint=covidcast\n",
    "data_source=fb-survey\n",
    "signal=smoothed_cli\n",
    "time_type=day\n",
    "geo_type=county\n",
    "time_values=20220101-20220106\n",
    "geo_value=06001\n",
    "```\n",
    "which asks for the smoothed cli signal from the fb survey data for county 06001 from 2022-01-01 to 2022-01-06.  Notice that if you want to select all geo_values then you can set geo_value=*."
   ]
  },
  {
   "cell_type": "markdown",
   "id": "ead143cc",
   "metadata": {},
   "source": [
    "### Part II. Wage Data"
   ]
  },
  {
   "cell_type": "markdown",
   "id": "a28b9213",
   "metadata": {},
   "source": [
    "**Exercise 4.1.** Consider the non-documented API from [ucannualwage.ucop.edu](https://ucannualwage.ucop.edu). We are interested in the median wage (gross pay) for UC Davis Deans from 2010 - 2021. Plot the median wage over all 12 years.\n",
    "\n",
    "__Note__: `request` returns an object that is not in json format, since it includes single instead of double quotation marks. You cannot use the method `json`, instead use the function `json.loads` from the `json` module, after replacing the quotation marks: \n",
    "\n",
    "    result = requests. ... # this is the request\n",
    "    import json\n",
    "    json.loads(result.text.replace(\"\\'\", \"\\\"\")) # this returns a dict\n"
   ]
  }
 ],
 "metadata": {
  "kernelspec": {
   "display_name": "Python 3 (ipykernel)",
   "language": "python",
   "name": "python3"
  },
  "language_info": {
   "codemirror_mode": {
    "name": "ipython",
    "version": 3
   },
   "file_extension": ".py",
   "mimetype": "text/x-python",
   "name": "python",
   "nbconvert_exporter": "python",
   "pygments_lexer": "ipython3",
   "version": "3.9.12"
  }
 },
 "nbformat": 4,
 "nbformat_minor": 5
}
